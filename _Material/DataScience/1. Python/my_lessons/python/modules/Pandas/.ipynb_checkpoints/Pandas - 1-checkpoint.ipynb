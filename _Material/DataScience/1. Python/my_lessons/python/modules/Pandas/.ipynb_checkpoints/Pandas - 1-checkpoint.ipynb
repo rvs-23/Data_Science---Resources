{
 "cells": [
  {
   "cell_type": "markdown",
   "id": "restricted-accused",
   "metadata": {},
   "source": [
    "<a href=\"https://pandas.pydata.org/pandas-docs/stable/getting_started/tutorials.html\"> Pandas official community tutorials </a>"
   ]
  },
  {
   "cell_type": "markdown",
   "id": "automatic-verse",
   "metadata": {},
   "source": [
    "<a href=\"https://www.dataschool.io/easier-data-analysis-with-pandas/\">Best Pandas video series tutorial by DataSchool</a>"
   ]
  },
  {
   "cell_type": "markdown",
   "id": "swiss-offense",
   "metadata": {},
   "source": [
    "<a href=\"https://stackoverflow.com/questions/tagged/pandas\">Pandas community Stack Overflow</a>"
   ]
  },
  {
   "cell_type": "markdown",
   "id": "charming-french",
   "metadata": {},
   "source": [
    "### 1. What is Pandas?\n",
    "\n",
    "#### Pandas is a fast, powerful, flexible and easy to use open source data analysis and manipulation tool, built on top of the Numpy (python)."
   ]
  },
  {
   "cell_type": "markdown",
   "id": "theoretical-reviewer",
   "metadata": {},
   "source": [
    "### 2. Features of Pandas."
   ]
  },
  {
   "cell_type": "markdown",
   "id": "existing-vault",
   "metadata": {},
   "source": [
    "<img src=\"pandas_features.png\" alt=\"Pandas Features (Wikipedia)\" width=\"900\" height=\"650\">"
   ]
  },
  {
   "cell_type": "markdown",
   "id": "typical-thickness",
   "metadata": {},
   "source": [
    "There are many things to like about pandas: It's well-documented, has a huge amount of <a href=\"https://stackoverflow.com/questions/tagged/pandas\">community support</a> , is under active development, and plays well with other Python libraries (such as matplotlib, scikit-learn, and seaborn)."
   ]
  },
  {
   "cell_type": "markdown",
   "id": "interesting-bible",
   "metadata": {},
   "source": [
    "### 4. What kind of data does Pandas handle?"
   ]
  },
  {
   "cell_type": "markdown",
   "id": "incredible-instrument",
   "metadata": {},
   "source": [
    "##### Pandas supports two types of data structures:\n",
    "\n",
    "<ul>\n",
    "    <li>Series</li>\n",
    "    <li>Data Frames </li>\n",
    "</ul>"
   ]
  },
  {
   "cell_type": "markdown",
   "id": "guided-wallace",
   "metadata": {},
   "source": [
    "#### (a) What is a Series?"
   ]
  },
  {
   "cell_type": "markdown",
   "id": "prime-trade",
   "metadata": {},
   "source": [
    "<b>Series is a one-dimensional labeled array capable of holding any data type (integers, strings, floating point numbers, Python objects, etc.).</b>\n",
    "\n",
    "```python\n",
    "pd.Series(data, index=index)\n",
    "```"
   ]
  },
  {
   "cell_type": "markdown",
   "id": "robust-deviation",
   "metadata": {},
   "source": [
    "<b>Here, data can be many different things:</b>\n",
    "    \n",
    "<ul>\n",
    "        <li>A Python Dictionary</li>\n",
    "        <li>An ndarray</li>\n",
    "        <li>A scalar value (like 9)</li>\n",
    "</ul>"
   ]
  },
  {
   "cell_type": "markdown",
   "id": "coordinated-fancy",
   "metadata": {},
   "source": [
    "### (b) What is a Data Frame?\n",
    "\n",
    "##### DataFrame is a 2-dimensional labeled data structure with columns of potentially different types. You can think of it like a spreadsheet or SQL table, or a dict of Series objects. It is generally the most commonly used pandas object. Like Series, DataFrame accepts many different kinds of input:\n",
    "\n",
    "<ul>\n",
    "    <li>Dict of 1D ndarrays, lists, dicts, or Series</li>\n",
    "    <li>2-D numpy.ndarray</li>\n",
    "    <li>A Series</li>\n",
    "    <li>Another DataFrame</li>\n",
    "</ul>\n",
    "\n",
    "```python\n",
    "pd.DataFrame(data, index, columns)\n",
    "```"
   ]
  },
  {
   "cell_type": "markdown",
   "id": "grave-fortune",
   "metadata": {},
   "source": [
    "Along with the data, you can optionally pass index (row labels) and columns (column labels) arguments. If you pass an index and / or columns, you are guaranteeing the index and / or columns of the resulting DataFrame. Thus, a dict of Series plus a specific index will discard all data not matching up to the passed index."
   ]
  },
  {
   "cell_type": "markdown",
   "id": "limiting-sherman",
   "metadata": {},
   "source": [
    "<img src='df.png' alt=\"DataFrame representation\" width=600 height=700>"
   ]
  },
  {
   "cell_type": "code",
   "execution_count": null,
   "id": "agricultural-bulgarian",
   "metadata": {},
   "outputs": [],
   "source": []
  }
 ],
 "metadata": {
  "kernelspec": {
   "display_name": "Python 3",
   "language": "python",
   "name": "python3"
  },
  "language_info": {
   "codemirror_mode": {
    "name": "ipython",
    "version": 3
   },
   "file_extension": ".py",
   "mimetype": "text/x-python",
   "name": "python",
   "nbconvert_exporter": "python",
   "pygments_lexer": "ipython3",
   "version": "3.8.5"
  }
 },
 "nbformat": 4,
 "nbformat_minor": 5
}
