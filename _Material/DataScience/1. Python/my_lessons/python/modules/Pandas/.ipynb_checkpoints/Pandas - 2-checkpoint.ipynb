{
 "cells": [
  {
   "cell_type": "markdown",
   "id": "surrounded-certification",
   "metadata": {},
   "source": [
    "## 6. Essential Basic Functionality - II"
   ]
  },
  {
   "cell_type": "markdown",
   "id": "fantastic-refund",
   "metadata": {},
   "source": [
    "### Function application\n",
    "\n",
    "To apply your own or another library’s functions to pandas objects, you should be aware of the three methods below. The appropriate method to use depends on whether your function expects to operate on an entire DataFrame or Series, row- or column-wise, or elementwise.\n",
    "\n",
    "<pre>\n",
    "i) Tablewise function application: <b>pipe()</b>\n",
    "ii) Row or Column Wise function application: <b>apply()</b>\n",
    "iii) Applying elementwise functions: <b>applymap()</b>\n",
    "</pre>"
   ]
  },
  {
   "cell_type": "markdown",
   "id": "thermal-opera",
   "metadata": {},
   "source": [
    "<a href=\"https://pandas.pydata.org/docs/user_guide/basics.html\">Here</a>"
   ]
  },
  {
   "cell_type": "code",
   "execution_count": null,
   "id": "outside-cartridge",
   "metadata": {},
   "outputs": [],
   "source": []
  }
 ],
 "metadata": {
  "kernelspec": {
   "display_name": "Python 3",
   "language": "python",
   "name": "python3"
  },
  "language_info": {
   "codemirror_mode": {
    "name": "ipython",
    "version": 3
   },
   "file_extension": ".py",
   "mimetype": "text/x-python",
   "name": "python",
   "nbconvert_exporter": "python",
   "pygments_lexer": "ipython3",
   "version": "3.8.5"
  }
 },
 "nbformat": 4,
 "nbformat_minor": 5
}
