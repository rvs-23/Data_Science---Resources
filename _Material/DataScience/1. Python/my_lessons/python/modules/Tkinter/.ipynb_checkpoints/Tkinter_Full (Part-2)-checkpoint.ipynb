{
 "cells": [
  {
   "cell_type": "markdown",
   "id": "c417f2d4-6a32-44dc-ac7f-816019c5e982",
   "metadata": {},
   "source": [
    "## 2. Controlling Layout With Geometry Managers\n",
    "\n",
    "Up until now, you’ve been adding widgets to windows using .pack(), but you haven’t learned what exactly this method does. Let’s clear things up! Application layout in Tkinter is controlled with geometry managers. While .pack() is an example of a geometry manager, it isn’t the only one. Tkinter has two others:\n",
    "<ol>\n",
    "    <li>.place()</li>\n",
    "    <li>.grid()</li>\n",
    "</ol>\n",
    "Each window in your application can use only one geometry manager. However, different frames can use different geometry managers, even if they’re assigned to a window using another geometry manager. "
   ]
  },
  {
   "cell_type": "markdown",
   "id": "617d6c4d-055a-4d5e-a168-f3ae658cad5a",
   "metadata": {},
   "source": [
    "### a) The .place() Geometry Manager\n",
    "You can use .place() to control the precise location that a widget should occupy in a window or Frame. You must provide two keyword arguments, x and y, which specify the x- and y-coordinates for the top-left corner of the widget. Both x and y are measured in pixels, not text units.\n",
    "\n",
    "Keep in mind that the origin (where x and y are both 0) is the top-left corner of the Frame or window. So, you can think of the y argument of .place() as the number of pixels from the top of the window, and the x argument as the number of pixels from the left of the window.\n",
    "\n",
    "Here’s an example of how the .place() geometry manager works:"
   ]
  },
  {
   "cell_type": "code",
   "execution_count": 1,
   "id": "9660f771-e2d1-49d9-a417-bd04b906942b",
   "metadata": {},
   "outputs": [],
   "source": [
    "from tkinter import *\n",
    "\n",
    "root = Tk()\n",
    "root.geometry('350x250')\n",
    "\n",
    "label1 = Label(root, text=\"I'm at (0, 0)\", bg=\"red\")\n",
    "label1.place(x=0, y=0)\n",
    "\n",
    "label2 = Label(root, text=\"I'm at (75, 75)\", bg=\"yellow\")\n",
    "label2.place(x=75, y=75)\n",
    "\n",
    "root.mainloop()"
   ]
  },
  {
   "cell_type": "markdown",
   "id": "01e0657d-7103-4f16-b3b7-77789f70e0bc",
   "metadata": {},
   "source": [
    "<u>.place()</u> is not used often. It has two main drawbacks:\n",
    "\n",
    "<ul>\n",
    "    <li>Layout can be difficult to manage with .place(). This is especially true if your application has lots of widgets.</li>\n",
    "    <li>Layouts created with .place() are not responsive. They don’t change as the window is resized.</li>\n",
    "</ul>\n",
    "One of the main challenges of cross-platform GUI development is making layouts that look good no matter which platform they are viewed on, and .place() is a poor choice for making responsive and cross-platform layouts."
   ]
  },
  {
   "cell_type": "markdown",
   "id": "29b821d6-6511-49c8-b3f4-2585a804fb8d",
   "metadata": {},
   "source": [
    "### b) The grid() Geometry Manager\n",
    "\n",
    "The geometry manager you’ll likely use most often is .grid(), which provides all the power of .pack() in a format that’s easier to understand and maintain.\n",
    "\n",
    ".grid() works by splitting a window or Frame into rows and columns. You specify the location of a widget by calling .grid() and passing the row and column indices to the row and column keyword arguments, respectively. Both row and column indices start at 0, so a row index of 1 and a column index of 2 tells .grid() to place a widget in the third column of the second row.\n",
    "\n",
    "The following script creates a 3 × 3 grid of frames with Label widgets packed into them:"
   ]
  },
  {
   "cell_type": "code",
   "execution_count": 8,
   "id": "8320b9a0-3f7c-4e1d-a0a8-4cd37f44b0aa",
   "metadata": {},
   "outputs": [],
   "source": [
    "window = Tk()\n",
    "\n",
    "for i in range(3):\n",
    "    for j in range(3):\n",
    "        label = Label(window, text=f\"Row {i}\\nColumn {j}\")\n",
    "        label.grid(row=i, column=j)\n",
    "\n",
    "window.mainloop()"
   ]
  },
  {
   "cell_type": "markdown",
   "id": "c0ab77ff-2fa2-42c5-a82b-3636169f5e88",
   "metadata": {},
   "source": [
    "#### Padding is just some blank space that surrounds a widget and separates it visually from its contents.\n",
    "\n",
    "The two types of padding are <b>external</b> and <b>internal padding.</b>External padding adds some space around the outside of a grid cell. It’s controlled with two keyword arguments to <b>.grid():</b>\n",
    "<ul>\n",
    "    <li>padx adds padding in the horizontal direction.</li>\n",
    "    <li>pady adds padding in the vertical direction.</li>\n",
    "</ul>\n",
    "Both padx and pady are measured in pixels, not text units, so setting both of them to the same value will create the same amount of padding in both directions."
   ]
  },
  {
   "cell_type": "code",
   "execution_count": 15,
   "id": "6ede77e2-0430-4c08-99a1-9e20662c5898",
   "metadata": {},
   "outputs": [],
   "source": [
    "window = Tk()\n",
    "\n",
    "for i in range(3):\n",
    "    for j in range(3):\n",
    "        label = Label(window, text=f\"Row {i}\\nColumn {j}\", relief='raised')\n",
    "        label.grid(row=i, column=j, padx=15, pady=15)\n",
    "\n",
    "window.mainloop()"
   ]
  },
  {
   "cell_type": "markdown",
   "id": "e787aee0-c3d1-4eca-9fd7-dd4b71e86ead",
   "metadata": {},
   "source": [
    "#### Grid system is like an excel sheet"
   ]
  },
  {
   "cell_type": "code",
   "execution_count": 16,
   "id": "3499c285-42ce-45c1-9b36-e5037f8fec14",
   "metadata": {},
   "outputs": [],
   "source": [
    "from tkinter import *\n",
    "\n",
    "root = Tk()\n",
    "root.geometry('345x319')\n",
    "\n",
    "def getvals():\n",
    "    print(uservalue.get())\n",
    "\n",
    "user = Label(root, text='Username')\n",
    "passw = Label(root, text='Password')\n",
    "user.grid()           \n",
    "passw.grid()\n",
    "\n",
    "uservalue = StringVar()\n",
    "passvalue = StringVar()\n",
    "\n",
    "user_entry = Entry(root, textvariable=uservalue)\n",
    "pass_entry = Entry(root, textvariable=passvalue)\n",
    "user_entry.grid(row=0, column=1)\n",
    "pass_entry.grid(row=1, column=1)\n",
    "\n",
    "Button(text='Submit', command=getvals).grid()\n",
    "\n",
    "root.mainloop()"
   ]
  },
  {
   "cell_type": "markdown",
   "id": "cbae5f2d-d4c8-45b4-b8df-3af9cff9ac41",
   "metadata": {},
   "source": [
    "## 2. Making your Applications interactive"
   ]
  },
  {
   "cell_type": "markdown",
   "id": "0cbb9684-69dd-4dcd-b7f9-ee5322054d74",
   "metadata": {},
   "source": [
    "<a href=\"https://realpython.com/python-gui-tkinter/#making-your-applications-interactive\">Real Python Even handling</a>"
   ]
  },
  {
   "cell_type": "code",
   "execution_count": null,
   "id": "4a01d50b-15eb-4283-bc0a-c9c877d12983",
   "metadata": {},
   "outputs": [],
   "source": []
  },
  {
   "cell_type": "code",
   "execution_count": null,
   "id": "2e6a1dae-53a5-4712-bb90-ff285b14495c",
   "metadata": {},
   "outputs": [],
   "source": []
  },
  {
   "cell_type": "markdown",
   "id": "d508b89f-5c17-41cd-a620-ce0eeb832fca",
   "metadata": {},
   "source": [
    "## Handling Events"
   ]
  },
  {
   "cell_type": "markdown",
   "id": "1d5b74f2-5ebe-45d7-a8a1-daf230c447eb",
   "metadata": {},
   "source": [
    "##### Every thing that you do on a computer like clicking mouse, clicking keys, moving mouse cursor are all events. We trigger the events and the computer handles it. How can we handle that in Tkinter?"
   ]
  },
  {
   "cell_type": "code",
   "execution_count": 14,
   "id": "e90730ce-e2e5-4393-a011-383180329fe8",
   "metadata": {},
   "outputs": [
    {
     "name": "stdout",
     "output_type": "stream",
     "text": [
      "Clicked on 31, 16\n",
      "Clicked on 31, 16\n",
      "Clicked on 32, 16\n",
      "Clicked on 65, 13\n",
      "Clicked on 10, 10\n",
      "Clicked on 13, 19\n",
      "Clicked on 0, 23\n"
     ]
    }
   ],
   "source": [
    "from tkinter import *\n",
    "\n",
    "root = Tk()\n",
    "root.title(\"Event in Tkinter...\")\n",
    "root.geometry('450x350')\n",
    "\n",
    "\n",
    "# Internally, an argument is passed to the function called event\n",
    "def yo(event):\n",
    "    print(f\"Clicked on {event.x}, {event.y}\")\n",
    "\n",
    "\n",
    "button = Button(root, text='Click Please', bg='Blue')\n",
    "button.pack()\n",
    "\n",
    "# whenever button is clicked, call the function yo\n",
    "root.bind('<Button-1>', yo)\n",
    "\n",
    "root.mainloop()"
   ]
  },
  {
   "cell_type": "markdown",
   "id": "0d763191-5257-4bae-8e07-5448b3ba2c8b",
   "metadata": {},
   "source": [
    "### Create a GUI window which takes width and height as input and upon clicking apply, it should be able to change its size."
   ]
  },
  {
   "cell_type": "code",
   "execution_count": 1,
   "id": "e8eb1605-9b94-46b5-aed5-a0084e0d3d1c",
   "metadata": {},
   "outputs": [],
   "source": [
    "from tkinter import *\n",
    "\n",
    "root = Tk()\n",
    "root.geometry(\"250x200\")\n",
    "\n",
    "def resize():\n",
    "    width_value = width.get()\n",
    "    height_value = height.get()\n",
    "    root.geometry(f\"{width_value}x{height_value}\")\n",
    "\n",
    "root.title(\"Window Resizer\")\n",
    "Label(text=\"Window Resizer\", font=\"comicsansms 11 bold\", pady=20).grid(column=2)\n",
    "\n",
    "Label(text=\"Width: \", font=\"comicsansms 11\").grid(row=1, column=1)\n",
    "Label(text=\"Height: \", font=\"comicsansms 11\").grid(row=2, column=1)\n",
    "\n",
    "width = StringVar()\n",
    "height = StringVar()\n",
    "\n",
    "width_entry = Entry(root, textvariable=width).grid(row=1, column=2)\n",
    "height_entry = Entry(root, textvariable=height).grid(row=2, column=2)\n",
    "\n",
    "Button(text=\"Apply\", command=resize, pady=2, font=\"comicsansms 11\").grid(column=2)\n",
    "\n",
    "root.mainloop()"
   ]
  },
  {
   "cell_type": "code",
   "execution_count": null,
   "id": "e1b29329-2644-484b-853c-04abaa2b9e96",
   "metadata": {},
   "outputs": [],
   "source": []
  }
 ],
 "metadata": {
  "kernelspec": {
   "display_name": "Python 3",
   "language": "python",
   "name": "python3"
  },
  "language_info": {
   "codemirror_mode": {
    "name": "ipython",
    "version": 3
   },
   "file_extension": ".py",
   "mimetype": "text/x-python",
   "name": "python",
   "nbconvert_exporter": "python",
   "pygments_lexer": "ipython3",
   "version": "3.8.5"
  }
 },
 "nbformat": 4,
 "nbformat_minor": 5
}
