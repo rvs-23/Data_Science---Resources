{
 "cells": [
  {
   "cell_type": "markdown",
   "id": "40bccf36-145e-44c3-acb3-2ee0cca114eb",
   "metadata": {},
   "source": [
    "# 1. Getting Started"
   ]
  },
  {
   "cell_type": "markdown",
   "id": "abf6be91-2b5e-4287-9300-f4800d2fbab8",
   "metadata": {},
   "source": [
    "#### What is GUI?\n",
    "\n",
    "GUI is a desktop app which helps you to interact with computers.\n",
    "\n",
    "#### What are the libraries?\n",
    "\n",
    "kivy, Qt, wxPython, Tkinter are few of the famous Python GUI libraries.\n"
   ]
  },
  {
   "cell_type": "markdown",
   "id": "cfdd96e6-a3de-46f5-9f68-125ca7d268d9",
   "metadata": {},
   "source": [
    "#### What is Tkinter?\n",
    "\n",
    "Tkinter in Python GUI programming is standard Python GUI library. It gives us an object-oriented interface to the Tk GUI toolkit.\n",
    "\n",
    "#### Fundamentals.\n",
    "\n",
    "<ol>\n",
    "    <li>Import the Tkinter module</li>\n",
    "    <li>Create the GUI application main window. It's in this window that we are performing operations and displaying visuals and everything. </li>\n",
    "    <li>Add Widgets.</li>\n",
    "    <li>Enter the main event loop. This tells the code to keep displaying the window until we manually close it.</li>\n",
    "</ol>"
   ]
  },
  {
   "cell_type": "markdown",
   "id": "2c10c361-abf7-4332-b956-f1fc8b61efd9",
   "metadata": {},
   "source": [
    "#### What we will learn?\n",
    "\n",
    "<pre>\n",
    "a) Get started with Tkinter with a “Hello, World!” application\n",
    "b) Work with widgets, such as buttons and check boxes.\n",
    "c) Control your application layout with geometry managers\n",
    "d) Make your applications interactive by associating button clicks to Python functions\n",
    "</pre>"
   ]
  },
  {
   "cell_type": "markdown",
   "id": "076e372e-358f-454d-b8f3-4684135aed2e",
   "metadata": {},
   "source": [
    "The foundational element of a Tkinter GUI is the window. Windows are the containers in which all other GUI elements live. These other GUI elements, such as text boxes, labels, and buttons, are known as widgets. Widgets are contained inside of windows."
   ]
  },
  {
   "cell_type": "markdown",
   "id": "c45b8c10-2d02-4615-aa91-b0d88d6088a5",
   "metadata": {},
   "source": [
    "# 2. Adding Widgets"
   ]
  },
  {
   "cell_type": "markdown",
   "id": "2cd59600-cd52-42ce-8362-47002f0fbc54",
   "metadata": {},
   "source": [
    "#### Tkinter Widgets\n",
    "\n",
    "A widget is an element of a graphical user interface(GUI) that displays information or provides a specific way for a user to interact with the operating system or an application."
   ]
  },
  {
   "cell_type": "markdown",
   "id": "6a9dded5-d46b-4942-b187-f4dbaf5dad6a",
   "metadata": {
    "jp-MarkdownHeadingCollapsed": true,
    "tags": []
   },
   "source": [
    "#### Different types of widgets are:\n",
    "\n",
    "<ul>\n",
    "    <li>Label</li>\n",
    "    <li>Button</li>\n",
    "    <li>Entry</li>\n",
    "    <li>ComboBox</li>\n",
    "    <li>CheckButton</li>\n",
    "    <li>Radio</li>\n",
    "    <li>ScrolledText</li>\n",
    "    <li>SpinBox</li>\n",
    "    <li>MenuBar</li>\n",
    "    <li>Notebook</li>\n",
    "</ul>"
   ]
  },
  {
   "cell_type": "markdown",
   "id": "4c93aa7c-42f4-4389-b63a-4195eea8cbe9",
   "metadata": {},
   "source": [
    "#### In a GUI, we have a screen that's constantly looping. As you move your cursor, it notices its location. To press a button, you move the cursor and it sees that you are on the button and lets you press. It's a constant loop."
   ]
  },
  {
   "cell_type": "markdown",
   "id": "813e5c7c-2ef9-4959-b0e3-ccad0d8a153a",
   "metadata": {},
   "source": [
    "#### Labels are widgets that the user doesn't interact with"
   ]
  },
  {
   "cell_type": "code",
   "execution_count": 2,
   "id": "817419cd-fb4b-4cae-af0c-608378adf2be",
   "metadata": {},
   "outputs": [],
   "source": [
    "from tkinter import *\n",
    "\n",
    "window = Tk()\n",
    "\n",
    "# Let's add a label\n",
    "\n",
    "label = Label(window, text=\"Hello Hello\")\n",
    "label.pack()\n",
    "\n",
    "window.mainloop()"
   ]
  },
  {
   "cell_type": "markdown",
   "id": "d2f7b3e4-828e-4089-9edb-99f3f2d137e2",
   "metadata": {},
   "source": [
    "The window you created earlier doesn’t change. You just created a Label widget, but you haven’t added it to the window yet. There are several ways to add widgets to a window. Right now, you can use the Label widget’s <b>.pack()</b> method:"
   ]
  },
  {
   "cell_type": "markdown",
   "id": "33d04027-7944-4157-b933-c0fcb1e0f3e3",
   "metadata": {},
   "source": [
    "#### For an application window, you can set its default geomtery, its minsize and maxsize"
   ]
  },
  {
   "cell_type": "code",
   "execution_count": 4,
   "id": "c380b5df-2900-482e-a1de-a44f3c0a780f",
   "metadata": {},
   "outputs": [],
   "source": [
    "from tkinter import *\n",
    "\n",
    "window = Tk()\n",
    "window.geometry('540x450')         # width x height\n",
    "\n",
    "window.minsize(250,300)\n",
    "window.maxsize(1100,1050)\n",
    "label = Label(window, text=\"Hello Hello\")\n",
    "label.pack()\n",
    "\n",
    "window.mainloop()"
   ]
  },
  {
   "cell_type": "markdown",
   "id": "0523124b-4a3d-4a8b-bb09-177b33a15797",
   "metadata": {},
   "source": [
    "#### Displaying Text and Images With Label Widgets\n",
    "Label widgets are used to display text or images. The text displayed by a Label widget can’t be edited by the user. It’s for display purposes only. As you saw in the example at the beginning of this tutorial, you can create a Label widget by instantiating the Label class and passing a string to the text parameter:"
   ]
  },
  {
   "cell_type": "code",
   "execution_count": 7,
   "id": "e4160e7b-5eb2-44ae-b60c-4d77665d8de5",
   "metadata": {},
   "outputs": [],
   "source": [
    "from tkinter import *\n",
    "\n",
    "window = Tk()\n",
    "window.geometry('540x450')         # width x height\n",
    "\n",
    "\n",
    "label = Label(\n",
    "    text=\"Hello, Tkinter\",\n",
    "    fg=\"white\",                    # setting foreground and background\n",
    "    bg=\"black\", \n",
    "    width=10,\n",
    "    height=10\n",
    ")\n",
    "label.pack()\n",
    "\n",
    "window.mainloop()"
   ]
  },
  {
   "cell_type": "markdown",
   "id": "eca34a97-54eb-4435-8ba7-f4e7bf51b329",
   "metadata": {},
   "source": [
    "#### The label widget has several attributes other than fg and bg. Some important ones are:-\n",
    "\n",
    "<ul>\n",
    "    <li>text    - adds text</li>\n",
    "    <li>bg      - adds background</li>\n",
    "    <li>fg      - foreground</li>\n",
    "    <li>font    - sets font </li>\n",
    "    <li>padx    - sets x padding</li>\n",
    "    <li>pady    - sets y padding</li>\n",
    "    <li>relief  - border styling (flat, groove, raised, ridge, solid, or sunken)</li>\n",
    "</ul>"
   ]
  },
  {
   "cell_type": "code",
   "execution_count": 11,
   "id": "2da68f5e-6230-4092-8d65-0ccf82833ff4",
   "metadata": {},
   "outputs": [],
   "source": [
    "window = Tk()\n",
    "\n",
    "window.geometry('450x350')\n",
    "window.title('Understanding Attributes of the functions Label')\n",
    "\n",
    "title_label = Label(text=\"\"\"\n",
    "Some random texts\n",
    "\\nto represent the working of background\n",
    "\\nand foreground which are \n",
    "\\nattributes of tkinter label.\n",
    "\\nHere we add some x and y padding and change the font.\n",
    "\"\"\", bg='Yellow', fg='green', padx=35, pady=20, font=('arial', 20, 'italic'))\n",
    "\n",
    "title_label.pack()\n",
    "window.mainloop()"
   ]
  },
  {
   "cell_type": "code",
   "execution_count": 14,
   "id": "6ab138d2-9207-4a71-9c72-2b173941fa21",
   "metadata": {},
   "outputs": [],
   "source": [
    "window = Tk()\n",
    "\n",
    "window.geometry('450x350')\n",
    "window.title('Understanding Attributes of the functions Label')\n",
    "\n",
    "title_label = Label(text=\"\"\"\n",
    "Some random texts\n",
    "\\nto represent the working of background\n",
    "\\nand foreground which are \n",
    "\\nattributes of tkinter label.\n",
    "\\nHere we add border style and change font.\n",
    "\"\"\", bg='Yellow', fg='green', font=('arial', 20, 'italic'), borderwidth=5, relief='ridge')\n",
    "\n",
    "title_label.pack()\n",
    "window.mainloop()"
   ]
  },
  {
   "cell_type": "markdown",
   "id": "aaab2696-3a97-4b53-b2da-7ac74d3753b5",
   "metadata": {},
   "source": [
    "#### The pack function also has some important attributes, some of which are :-\n",
    "\n",
    "<ul>\n",
    "    <li>anchor  - direction of label(east, west, south, northwest etc)</li>\n",
    "    <li>side    - top, bottom, left or right (default=top)</li>\n",
    "    <li>fill    - sets font </li>\n",
    "    <li>padx    - sets x padding</li>\n",
    "    <li>pady    - sets y padding</li>\n",
    "</ul>"
   ]
  },
  {
   "cell_type": "code",
   "execution_count": 15,
   "id": "7e1ed34f-c4d9-4d5c-a421-cfe4fb9f0dc3",
   "metadata": {},
   "outputs": [],
   "source": [
    "window2 = Tk()\n",
    "\n",
    "window2.geometry('450x350')\n",
    "\n",
    "title_label = Label(text=\"\"\"\n",
    "Some random texts\n",
    "\\nto represent the working of background\n",
    "\\nand foreground which are \n",
    "\\nattributes of tkinter label.\n",
    "\\nHere we add border style and change font.\n",
    "\"\"\", bg='Yellow', fg='green', font=('arial', 20, 'italic'), borderwidth=5, relief='ridge')\n",
    "\n",
    "title_label.pack(side='bottom', anchor='s')\n",
    "\n",
    "window2.mainloop()"
   ]
  },
  {
   "cell_type": "code",
   "execution_count": 16,
   "id": "c1e8492d-9663-4571-a9f7-12fa7c2721ed",
   "metadata": {},
   "outputs": [],
   "source": [
    "# Setting fill = x(or y) will fill the empty space in the mentioned direction\n",
    "window3 = Tk()\n",
    "window3.geometry('450x350')\n",
    "\n",
    "\n",
    "title_label = Label(text=\"\"\"\n",
    "Some random texts\n",
    "\\nto represent the working of background\n",
    "\\nand foreground which are \n",
    "\\nattributes of tkinter label.\n",
    "\\nHere we check label attributes.\n",
    "\"\"\", bg='Yellow', fg='green', font=('arial', 20, 'italic'), borderwidth=5, relief='ridge')\n",
    "\n",
    "# To get the y fill, you need to either keep it in the left or right\n",
    "title_label.pack(side='left', fill='y', padx=15)\n",
    "\n",
    "window3.mainloop()"
   ]
  },
  {
   "cell_type": "markdown",
   "id": "a44c1875-4113-4826-a0a6-0b9cab180210",
   "metadata": {},
   "source": [
    "#### A small strip at the bottom of the screen with READY written"
   ]
  },
  {
   "cell_type": "code",
   "execution_count": 5,
   "id": "16ac1872-cb02-4719-837a-6ddc061a2d61",
   "metadata": {},
   "outputs": [],
   "source": [
    "root= tkinter.Tk()\n",
    "\n",
    "root.geometry(\"500x400\")\n",
    "label = tkinter.Label(text='''READY''', bg=\"yellow\", fg= \"red\", font=\"timesnewroman 12 bold\")\n",
    "label.pack(side='bottom', anchor='se', fill='x')\n",
    "\n",
    "root.mainloop()"
   ]
  },
  {
   "cell_type": "markdown",
   "id": "abe3736b-3de5-4008-b2ba-9459f95a4dd0",
   "metadata": {},
   "source": [
    "# <hr>"
   ]
  },
  {
   "cell_type": "markdown",
   "id": "e9b5a28d-2f94-4529-b085-807d65f4ddc1",
   "metadata": {},
   "source": [
    "### Displaying Clickable Buttons With Button Widgets\n",
    "Button widgets are used to display clickable buttons. They can be configured to call a function whenever they’re clicked.There are many similarities between Button and Label widgets. In many ways, a Button is just a Label that you can click! The same keyword arguments you use to create and style a Label will work with Button widgets. For example, the following code creates a Button with a blue background and yellow text. It also sets the width and height to 25 and 5 text units, respectively:"
   ]
  },
  {
   "cell_type": "code",
   "execution_count": 21,
   "id": "ef2d6c86-9ca5-4ab9-9ef5-95f5236e18d7",
   "metadata": {},
   "outputs": [],
   "source": [
    "window = Tk()\n",
    "window.geometry('350x450')\n",
    "\n",
    "button = Button(\n",
    "    text=\"Click me!\",\n",
    "    width=25,\n",
    "    height=5,\n",
    "    bg=\"blue\",\n",
    "    fg=\"yellow\",\n",
    ")\n",
    "button.pack()\n",
    "\n",
    "window.mainloop()"
   ]
  },
  {
   "cell_type": "markdown",
   "id": "a62ac0fd-f8ef-4b95-8c3f-ad8f2beac7eb",
   "metadata": {},
   "source": [
    "#### Buttons that do something...\n",
    "\n",
    "\n",
    "#### You can add an attribute called \"state=DISABLED\" to disable the button. We can add padx and pady to alter to increase the size of the button in the x and y directions.\n",
    "\n",
    "\n",
    "#### To make the button do something, we create a function. You can add button colors using the hex color code."
   ]
  },
  {
   "cell_type": "code",
   "execution_count": 22,
   "id": "cbbae6dc-2a16-47ca-8170-d7c671d89393",
   "metadata": {},
   "outputs": [
    {
     "name": "stdout",
     "output_type": "stream",
     "text": [
      "You clicked button 3\n"
     ]
    }
   ],
   "source": [
    "from tkinter import *\n",
    "\n",
    "root = Tk()\n",
    "\n",
    "def but1():\n",
    "    print(\"You clicked button 1\")\n",
    "\n",
    "def but2():\n",
    "    print(\"You clicked button 2\")\n",
    "\n",
    "def but3():\n",
    "    print(\"You clicked button 3\")\n",
    "\n",
    "def but4():\n",
    "    print(\"You clicked button 4\")\n",
    "\n",
    "root.geometry(\"500x400\")\n",
    "\n",
    "b1 = Button(root, fg = \"blue\", text = \"Button 1\", command = but1)\n",
    "b1.pack(side = LEFT)\n",
    "\n",
    "b2 = Button(root, fg = \"blue\", text = \"Button 2\", command = but2)\n",
    "b2.pack(side = LEFT)\n",
    "\n",
    "b3 = Button(root, fg = \"blue\", text = \"Button 3\", command = but3)\n",
    "b3.pack(side = LEFT)\n",
    "\n",
    "b4 = Button(root, fg = \"blue\", text = \"Button 4\", command = but4)\n",
    "b4.pack(side = LEFT)\n",
    "\n",
    "\n",
    "root.mainloop()"
   ]
  },
  {
   "cell_type": "markdown",
   "id": "963b040b-83cb-415d-9c37-4f371a28500c",
   "metadata": {},
   "source": [
    "<hr>"
   ]
  },
  {
   "cell_type": "markdown",
   "id": "d1abbb9e-cb93-4cc0-9fa8-2ec626615af2",
   "metadata": {},
   "source": [
    "### Getting User Input With Entry Widgets\n",
    "When you need to get a little bit of text from a user, like a name or an email address, use an Entry widget. They display a small text box that the user can type some text into. Creating and styling an Entry widget works pretty much exactly like Label and Button widgets. For example, the following code creates a widget with a blue background, some yellow text, and a width of 50 text units:"
   ]
  },
  {
   "cell_type": "code",
   "execution_count": 25,
   "id": "b5b2ed40-f59e-45d2-b4f3-d1260212d3a4",
   "metadata": {},
   "outputs": [],
   "source": [
    "window = Tk()\n",
    "window.geometry('350x300')\n",
    "\n",
    "entry = Entry(fg=\"yellow\", bg=\"blue\", width=50)\n",
    "entry.pack()\n",
    "\n",
    "window.mainloop()"
   ]
  },
  {
   "cell_type": "markdown",
   "id": "b03b1965-9822-4acf-9b47-cfb4fecec9ee",
   "metadata": {},
   "source": [
    "The interesting bit about Entry widgets isn’t how to style them, though. It’s how to use them to get input from a user. There are three main operations that you can perform with Entry widgets:\n",
    "<ul>\n",
    "<li>Retrieving text with .get()</li>\n",
    "<li>Deleting text with .delete()</li>\n",
    "<li>Inserting text with .insert()</li>\n",
    "</ul>\n",
    "The best way to get an understanding of Entry widgets is to create one and interact with it."
   ]
  },
  {
   "cell_type": "code",
   "execution_count": 31,
   "id": "a31e503a-3f6a-46bc-a1aa-1c51d0455ba4",
   "metadata": {},
   "outputs": [],
   "source": [
    "window = Tk()\n",
    "window.geometry('350x325')\n",
    "\n",
    "name = Label(window, text='Name')\n",
    "entry = Entry()\n",
    "\n",
    "name.pack()\n",
    "entry.pack()\n",
    "\n",
    "window.mainloop()"
   ]
  },
  {
   "cell_type": "markdown",
   "id": "21e7ce5e-0ba0-4d05-b57f-60089a141bca",
   "metadata": {},
   "source": [
    "Note that, just like Python string objects, text in an Entry widget is indexed starting with 0.\n",
    "\n",
    "If you need to remove several characters from an Entry, then pass a second integer argument to .delete() indicating the index of the character where deletion should stop. For example, the following code deletes the first four letters in the Entry:\n",
    "\n",
    "```python\n",
    "entry.delete(0, 4)\n",
    "```\n",
    "\n",
    "On the opposite end of the spectrum, you can also .insert() text into an Entry widget:\n",
    "\n",
    "```python\n",
    "entry.insert(0, \"Python\")\n",
    "```"
   ]
  },
  {
   "cell_type": "markdown",
   "id": "0406ad7d-d433-488e-8e53-db1efa820563",
   "metadata": {},
   "source": [
    "<hr>"
   ]
  },
  {
   "cell_type": "markdown",
   "id": "c9005be6-15ef-4771-a938-22e1eb918678",
   "metadata": {
    "tags": []
   },
   "source": [
    "### Getting Multiline User Input With Text Widgets\n",
    "Text widgets are used for entering text, just like Entry widgets. The difference is that Text widgets may contain multiple lines of text. With a Text widget, a user can input a whole paragraph or even several pages of text! Just like Entry widgets, there are three main operations you can perform with Text widgets"
   ]
  },
  {
   "cell_type": "code",
   "execution_count": 35,
   "id": "d5b27227-cde6-4efe-b93a-14482d01a580",
   "metadata": {},
   "outputs": [],
   "source": [
    "window = Tk()\n",
    "text_box = Text()\n",
    "text_box.pack()\n",
    "window.mainloop()"
   ]
  },
  {
   "cell_type": "markdown",
   "id": "daaa6147-9060-49fc-b93a-20f2449f96d9",
   "metadata": {},
   "source": [
    "Just like Entry widgets, you can retrieve the text from a Text widget using .get().Text.get() required at least one argument. Calling .get() with a single index returns a single character. To retrieve several characters, you need to pass a start index and an end index. Indices in Text widgets work differently than Entry widgets. Since Text widgets can have several lines of text, an index must contain two pieces of information:\n",
    "<ul>\n",
    "    <li>The line number of a character.</li>\n",
    "    <li>The position of a character on that line.</li>\n",
    "</ul>"
   ]
  },
  {
   "cell_type": "markdown",
   "id": "2d10bbe9-02f3-4dcc-aa36-98ff0b5e7472",
   "metadata": {},
   "source": [
    "Line numbers start with 1, and character positions start with 0. To make an index, you create a string of the form \"<line>.<char>\", replacing <line> with the line number and <char> with the character number. For example, \"1.0\" represents the first character on the first line, and \"2.3\" represents the fourth character on the second line."
   ]
  },
  {
   "cell_type": "code",
   "execution_count": 38,
   "id": "72a0f029-89c6-4d7d-89af-0a0151219c37",
   "metadata": {},
   "outputs": [
    {
     "name": "stdout",
     "output_type": "stream",
     "text": [
      "Pythonn \n",
      "C\n"
     ]
    }
   ],
   "source": [
    "window = Tk()\n",
    "text_box = Text()\n",
    "text_box.pack()\n",
    "\n",
    "def extract():\n",
    "    print(text_box.get(\"1.0\", \"2.1\"))\n",
    "    \n",
    "b = Button(window, text=\"Extract\", command=extract)\n",
    "b.pack()\n",
    "\n",
    "window.mainloop()"
   ]
  },
  {
   "cell_type": "markdown",
   "id": "23bdd0be-10eb-4a0c-8429-26060b968e6d",
   "metadata": {},
   "source": [
    "<hr>"
   ]
  },
  {
   "cell_type": "markdown",
   "id": "2f734305-2713-4365-a55d-2ffd5c99da87",
   "metadata": {},
   "source": [
    "### Canvas widget"
   ]
  },
  {
   "cell_type": "markdown",
   "id": "72391bd9-6362-499a-b438-ff1d11eae8de",
   "metadata": {},
   "source": [
    "##### Once we create the canvas widget, we can do plenty of stuff drawing stuff"
   ]
  },
  {
   "cell_type": "code",
   "execution_count": 7,
   "id": "583b9ea5-4a95-4a3b-8dfd-9c0d8b9449fd",
   "metadata": {},
   "outputs": [],
   "source": [
    "from tkinter import *\n",
    "\n",
    "root = Tk()\n",
    "\n",
    "canvas = Canvas(root, width=800, height=400)\n",
    "canvas.pack()\n",
    "\n",
    "# Line goes form (x1,y1) to (x2,y2)\n",
    "# The four corrdinates are wrt the width and height\n",
    "# (0,0) is the top left corner of the canvas\n",
    "\n",
    "canvas.create_line(0, 0, 800, 250)\n",
    "\n",
    "# Let's create another line to create a cross\n",
    "# canvas.create_line(0, 400, 800, 0, fill='green')\n",
    "\n",
    "root.mainloop()"
   ]
  },
  {
   "cell_type": "code",
   "execution_count": 10,
   "id": "84c4d320-b769-482d-a36d-912c77e590ff",
   "metadata": {},
   "outputs": [],
   "source": [
    "from tkinter import *\n",
    "\n",
    "root = Tk()\n",
    "\n",
    "canvas = Canvas(root, width=800, height=400)\n",
    "canvas.pack()\n",
    "\n",
    "# To create a rectange {coords of top left, coords of botton right}\n",
    "canvas.create_rectangle(30, 50, 700, 300, fill='pink')\n",
    "\n",
    "# To add a text to GUI {center coords of the text}\n",
    "canvas.create_text(200, 200, text=\"Python\", fill='Green', font=('Times new roman', 18))\n",
    "\n",
    "\n",
    "# To create an oval, add the same coordinates as a rectangle as the oval will be drawn inside the rectangle\n",
    "canvas.create_oval(30, 50, 700, 300)\n",
    "\n",
    "root.mainloop()"
   ]
  },
  {
   "cell_type": "markdown",
   "id": "a5df988f-6deb-4855-a891-1d291cbb87d5",
   "metadata": {},
   "source": [
    "<hr>"
   ]
  },
  {
   "cell_type": "markdown",
   "id": "2055ba9d-62a5-4c01-a894-28d09d3915f5",
   "metadata": {},
   "source": [
    "### Menus and Submenus"
   ]
  },
  {
   "cell_type": "code",
   "execution_count": 39,
   "id": "108dcaf2-6d1a-4d74-a429-0a651eeeab42",
   "metadata": {},
   "outputs": [
    {
     "name": "stdout",
     "output_type": "stream",
     "text": [
      "function...\n",
      "function...\n"
     ]
    }
   ],
   "source": [
    "from tkinter import *\n",
    "\n",
    "root = Tk()\n",
    "root.geometry('540x400')\n",
    "\n",
    "def myFunc():\n",
    "    print(\"function...\")\n",
    "\n",
    "# Using the menu widget\n",
    "my_menu = Menu(root)\n",
    "my_menu.add_command(label='File', command=myFunc)\n",
    "\n",
    "# no need to pack. Ask the GUI to configure in such a way that the menu is configured with the window\n",
    "root.config(menu=my_menu)\n",
    "root.mainloop()"
   ]
  },
  {
   "cell_type": "markdown",
   "id": "2ae9f112-2693-4ce1-8ca1-8435169d7627",
   "metadata": {},
   "source": [
    "##### Generally, we add a drop down instead of a command straightaway"
   ]
  },
  {
   "cell_type": "code",
   "execution_count": 40,
   "id": "fb578af0-5c69-412c-8f57-647b35df7a8a",
   "metadata": {},
   "outputs": [],
   "source": [
    "from tkinter import *\n",
    "\n",
    "window = Tk()\n",
    "window.geometry('353x253')\n",
    "\n",
    "def save():\n",
    "    print(\"File saved\")\n",
    "def explore():\n",
    "    print(\"Explore\")\n",
    "\n",
    "new_menu = Menu(window)\n",
    "sub_menu = Menu(new_menu)\n",
    "sub_menu.add_command(label='Save', command=save)\n",
    "sub_menu.add_command(label='Explore', command=explore)\n",
    "\n",
    "# horizontal bar me sub_menu add kardo\n",
    "new_menu.add_cascade(label='File', menu=sub_menu)\n",
    "\n",
    "window.config(menu=new_menu)\n",
    "window.mainloop()"
   ]
  },
  {
   "cell_type": "markdown",
   "id": "c0e67a35-ba76-4421-8356-2fce6df72926",
   "metadata": {},
   "source": [
    "##### To remove the horizontal dash line that appears on the GUI menu, use : \n",
    "\n",
    "```python\n",
    "sub_menu = Menu(menu, tearoff=0)\n",
    "\n",
    "```"
   ]
  },
  {
   "cell_type": "markdown",
   "id": "90a958ec-420a-415d-ac32-acafd0c8c5ae",
   "metadata": {},
   "source": [
    "<hr>"
   ]
  },
  {
   "cell_type": "markdown",
   "id": "ac153c54-aca7-4b54-aef0-ca8d28dd34b6",
   "metadata": {},
   "source": [
    "### Radiobuttons"
   ]
  },
  {
   "cell_type": "code",
   "execution_count": 9,
   "id": "b062523a-2e8b-486f-8fea-84cc0a1439f3",
   "metadata": {},
   "outputs": [],
   "source": [
    "from tkinter import *\n",
    "import tkinter.messagebox as tmsg\n",
    "\n",
    "root = Tk()\n",
    "root.geometry('355x300')\n",
    "\n",
    "def get_order():\n",
    "    tmsg.showinfo('Received', var.get())\n",
    "\n",
    "# Creating an integer variable and setting its value to 1\n",
    "var = IntVar()\n",
    "\n",
    "# var = StringVar()\n",
    "# var.set(1)\n",
    "Label(root,text='What would you like to eat?', justify='left', padx=15, font=\"lucida 15 italic\").pack()\n",
    "radio = Radiobutton(root, text='Dosa', padx=15, variable=var, value=1).pack(anchor='w')\n",
    "radio = Radiobutton(root, text='Idly', padx=15, variable=var, value=2).pack(anchor='w')\n",
    "radio = Radiobutton(root, text='Vada', padx=15, variable=var, value=3).pack(anchor='w')\n",
    "\n",
    "Button(text='Order now', command=get_order).pack()\n",
    "\n",
    "root.mainloop()"
   ]
  }
 ],
 "metadata": {
  "kernelspec": {
   "display_name": "Python 3 (ipykernel)",
   "language": "python",
   "name": "python3"
  },
  "language_info": {
   "codemirror_mode": {
    "name": "ipython",
    "version": 3
   },
   "file_extension": ".py",
   "mimetype": "text/x-python",
   "name": "python",
   "nbconvert_exporter": "python",
   "pygments_lexer": "ipython3",
   "version": "3.8.8"
  }
 },
 "nbformat": 4,
 "nbformat_minor": 5
}
